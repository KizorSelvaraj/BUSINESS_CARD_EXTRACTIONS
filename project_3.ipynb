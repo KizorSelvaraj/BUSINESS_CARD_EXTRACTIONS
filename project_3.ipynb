{
 "cells": [
  {
   "cell_type": "code",
   "execution_count": 1,
   "metadata": {},
   "outputs": [
    {
     "name": "stdout",
     "output_type": "stream",
     "text": [
      "Requirement already satisfied: streamlit_option_menu in c:\\users\\kizorselvaraj\\anaconda3\\lib\\site-packages (0.3.6)Note: you may need to restart the kernel to use updated packages.\n",
      "\n",
      "Requirement already satisfied: streamlit>=0.63 in c:\\users\\kizorselvaraj\\anaconda3\\lib\\site-packages (from streamlit_option_menu) (1.29.0)\n",
      "Requirement already satisfied: altair<6,>=4.0 in c:\\users\\kizorselvaraj\\anaconda3\\lib\\site-packages (from streamlit>=0.63->streamlit_option_menu) (5.2.0)\n",
      "Requirement already satisfied: blinker<2,>=1.0.0 in c:\\users\\kizorselvaraj\\anaconda3\\lib\\site-packages (from streamlit>=0.63->streamlit_option_menu) (1.7.0)\n",
      "Requirement already satisfied: cachetools<6,>=4.0 in c:\\users\\kizorselvaraj\\anaconda3\\lib\\site-packages (from streamlit>=0.63->streamlit_option_menu) (5.3.2)\n",
      "Requirement already satisfied: click<9,>=7.0 in c:\\users\\kizorselvaraj\\anaconda3\\lib\\site-packages (from streamlit>=0.63->streamlit_option_menu) (8.0.4)\n",
      "Requirement already satisfied: importlib-metadata<7,>=1.4 in c:\\users\\kizorselvaraj\\anaconda3\\lib\\site-packages (from streamlit>=0.63->streamlit_option_menu) (6.0.0)\n",
      "Requirement already satisfied: numpy<2,>=1.19.3 in c:\\users\\kizorselvaraj\\anaconda3\\lib\\site-packages (from streamlit>=0.63->streamlit_option_menu) (1.24.3)\n",
      "Requirement already satisfied: packaging<24,>=16.8 in c:\\users\\kizorselvaraj\\anaconda3\\lib\\site-packages (from streamlit>=0.63->streamlit_option_menu) (23.1)\n",
      "Requirement already satisfied: pandas<3,>=1.3.0 in c:\\users\\kizorselvaraj\\anaconda3\\lib\\site-packages (from streamlit>=0.63->streamlit_option_menu) (2.0.3)\n",
      "Requirement already satisfied: pillow<11,>=7.1.0 in c:\\users\\kizorselvaraj\\anaconda3\\lib\\site-packages (from streamlit>=0.63->streamlit_option_menu) (10.0.1)\n",
      "Requirement already satisfied: protobuf<5,>=3.20 in c:\\users\\kizorselvaraj\\anaconda3\\lib\\site-packages (from streamlit>=0.63->streamlit_option_menu) (4.25.1)\n",
      "Requirement already satisfied: pyarrow>=6.0 in c:\\users\\kizorselvaraj\\anaconda3\\lib\\site-packages (from streamlit>=0.63->streamlit_option_menu) (11.0.0)\n",
      "Requirement already satisfied: python-dateutil<3,>=2.7.3 in c:\\users\\kizorselvaraj\\anaconda3\\lib\\site-packages (from streamlit>=0.63->streamlit_option_menu) (2.8.2)\n",
      "Requirement already satisfied: requests<3,>=2.27 in c:\\users\\kizorselvaraj\\anaconda3\\lib\\site-packages (from streamlit>=0.63->streamlit_option_menu) (2.31.0)\n",
      "Requirement already satisfied: rich<14,>=10.14.0 in c:\\users\\kizorselvaraj\\anaconda3\\lib\\site-packages (from streamlit>=0.63->streamlit_option_menu) (13.7.0)\n",
      "Requirement already satisfied: tenacity<9,>=8.1.0 in c:\\users\\kizorselvaraj\\anaconda3\\lib\\site-packages (from streamlit>=0.63->streamlit_option_menu) (8.2.2)\n",
      "Requirement already satisfied: toml<2,>=0.10.1 in c:\\users\\kizorselvaraj\\anaconda3\\lib\\site-packages (from streamlit>=0.63->streamlit_option_menu) (0.10.2)\n",
      "Requirement already satisfied: typing-extensions<5,>=4.3.0 in c:\\users\\kizorselvaraj\\anaconda3\\lib\\site-packages (from streamlit>=0.63->streamlit_option_menu) (4.7.1)\n",
      "Requirement already satisfied: tzlocal<6,>=1.1 in c:\\users\\kizorselvaraj\\anaconda3\\lib\\site-packages (from streamlit>=0.63->streamlit_option_menu) (5.2)\n",
      "Requirement already satisfied: validators<1,>=0.2 in c:\\users\\kizorselvaraj\\anaconda3\\lib\\site-packages (from streamlit>=0.63->streamlit_option_menu) (0.22.0)\n",
      "Requirement already satisfied: gitpython!=3.1.19,<4,>=3.0.7 in c:\\users\\kizorselvaraj\\anaconda3\\lib\\site-packages (from streamlit>=0.63->streamlit_option_menu) (3.1.40)\n",
      "Requirement already satisfied: pydeck<1,>=0.8.0b4 in c:\\users\\kizorselvaraj\\anaconda3\\lib\\site-packages (from streamlit>=0.63->streamlit_option_menu) (0.8.1b0)\n",
      "Requirement already satisfied: tornado<7,>=6.0.3 in c:\\users\\kizorselvaraj\\anaconda3\\lib\\site-packages (from streamlit>=0.63->streamlit_option_menu) (6.3.2)\n",
      "Requirement already satisfied: watchdog>=2.1.5 in c:\\users\\kizorselvaraj\\anaconda3\\lib\\site-packages (from streamlit>=0.63->streamlit_option_menu) (2.1.6)\n",
      "Requirement already satisfied: jinja2 in c:\\users\\kizorselvaraj\\anaconda3\\lib\\site-packages (from altair<6,>=4.0->streamlit>=0.63->streamlit_option_menu) (3.1.2)\n",
      "Requirement already satisfied: jsonschema>=3.0 in c:\\users\\kizorselvaraj\\anaconda3\\lib\\site-packages (from altair<6,>=4.0->streamlit>=0.63->streamlit_option_menu) (4.17.3)\n",
      "Requirement already satisfied: toolz in c:\\users\\kizorselvaraj\\anaconda3\\lib\\site-packages (from altair<6,>=4.0->streamlit>=0.63->streamlit_option_menu) (0.12.0)\n",
      "Requirement already satisfied: colorama in c:\\users\\kizorselvaraj\\anaconda3\\lib\\site-packages (from click<9,>=7.0->streamlit>=0.63->streamlit_option_menu) (0.4.6)\n",
      "Requirement already satisfied: gitdb<5,>=4.0.1 in c:\\users\\kizorselvaraj\\anaconda3\\lib\\site-packages (from gitpython!=3.1.19,<4,>=3.0.7->streamlit>=0.63->streamlit_option_menu) (4.0.11)\n",
      "Requirement already satisfied: zipp>=0.5 in c:\\users\\kizorselvaraj\\anaconda3\\lib\\site-packages (from importlib-metadata<7,>=1.4->streamlit>=0.63->streamlit_option_menu) (3.11.0)\n",
      "Requirement already satisfied: pytz>=2020.1 in c:\\users\\kizorselvaraj\\anaconda3\\lib\\site-packages (from pandas<3,>=1.3.0->streamlit>=0.63->streamlit_option_menu) (2023.3.post1)\n",
      "Requirement already satisfied: tzdata>=2022.1 in c:\\users\\kizorselvaraj\\anaconda3\\lib\\site-packages (from pandas<3,>=1.3.0->streamlit>=0.63->streamlit_option_menu) (2023.3)\n",
      "Requirement already satisfied: six>=1.5 in c:\\users\\kizorselvaraj\\anaconda3\\lib\\site-packages (from python-dateutil<3,>=2.7.3->streamlit>=0.63->streamlit_option_menu) (1.16.0)\n",
      "Requirement already satisfied: charset-normalizer<4,>=2 in c:\\users\\kizorselvaraj\\anaconda3\\lib\\site-packages (from requests<3,>=2.27->streamlit>=0.63->streamlit_option_menu) (2.0.4)\n",
      "Requirement already satisfied: idna<4,>=2.5 in c:\\users\\kizorselvaraj\\anaconda3\\lib\\site-packages (from requests<3,>=2.27->streamlit>=0.63->streamlit_option_menu) (3.4)\n",
      "Requirement already satisfied: urllib3<3,>=1.21.1 in c:\\users\\kizorselvaraj\\anaconda3\\lib\\site-packages (from requests<3,>=2.27->streamlit>=0.63->streamlit_option_menu) (1.26.16)\n",
      "Requirement already satisfied: certifi>=2017.4.17 in c:\\users\\kizorselvaraj\\anaconda3\\lib\\site-packages (from requests<3,>=2.27->streamlit>=0.63->streamlit_option_menu) (2023.11.17)\n",
      "Requirement already satisfied: markdown-it-py>=2.2.0 in c:\\users\\kizorselvaraj\\anaconda3\\lib\\site-packages (from rich<14,>=10.14.0->streamlit>=0.63->streamlit_option_menu) (2.2.0)\n",
      "Requirement already satisfied: pygments<3.0.0,>=2.13.0 in c:\\users\\kizorselvaraj\\anaconda3\\lib\\site-packages (from rich<14,>=10.14.0->streamlit>=0.63->streamlit_option_menu) (2.15.1)\n",
      "Requirement already satisfied: smmap<6,>=3.0.1 in c:\\users\\kizorselvaraj\\anaconda3\\lib\\site-packages (from gitdb<5,>=4.0.1->gitpython!=3.1.19,<4,>=3.0.7->streamlit>=0.63->streamlit_option_menu) (5.0.1)\n",
      "Requirement already satisfied: MarkupSafe>=2.0 in c:\\users\\kizorselvaraj\\anaconda3\\lib\\site-packages (from jinja2->altair<6,>=4.0->streamlit>=0.63->streamlit_option_menu) (2.1.1)\n",
      "Requirement already satisfied: attrs>=17.4.0 in c:\\users\\kizorselvaraj\\anaconda3\\lib\\site-packages (from jsonschema>=3.0->altair<6,>=4.0->streamlit>=0.63->streamlit_option_menu) (22.1.0)\n",
      "Requirement already satisfied: pyrsistent!=0.17.0,!=0.17.1,!=0.17.2,>=0.14.0 in c:\\users\\kizorselvaraj\\anaconda3\\lib\\site-packages (from jsonschema>=3.0->altair<6,>=4.0->streamlit>=0.63->streamlit_option_menu) (0.18.0)\n",
      "Requirement already satisfied: mdurl~=0.1 in c:\\users\\kizorselvaraj\\anaconda3\\lib\\site-packages (from markdown-it-py>=2.2.0->rich<14,>=10.14.0->streamlit>=0.63->streamlit_option_menu) (0.1.0)\n"
     ]
    }
   ],
   "source": [
    "pip install streamlit_option_menu"
   ]
  },
  {
   "cell_type": "code",
   "execution_count": 2,
   "metadata": {},
   "outputs": [
    {
     "name": "stdout",
     "output_type": "stream",
     "text": [
      "Requirement already satisfied: pytesseract in c:\\users\\kizorselvaraj\\anaconda3\\lib\\site-packages (0.3.10)\n",
      "Requirement already satisfied: packaging>=21.3 in c:\\users\\kizorselvaraj\\anaconda3\\lib\\site-packages (from pytesseract) (23.1)\n",
      "Requirement already satisfied: Pillow>=8.0.0 in c:\\users\\kizorselvaraj\\anaconda3\\lib\\site-packages (from pytesseract) (10.0.1)\n",
      "Note: you may need to restart the kernel to use updated packages.\n"
     ]
    }
   ],
   "source": [
    "pip install pytesseract"
   ]
  },
  {
   "cell_type": "code",
   "execution_count": 3,
   "metadata": {},
   "outputs": [],
   "source": [
    "import streamlit as st\n",
    "import io\n",
    "from io import BytesIO\n",
    "import psycopg2\n",
    "import pandas as pd\n",
    "import re\n",
    "from PIL import Image\n",
    "import numpy as np\n",
    "from streamlit_option_menu import option_menu\n",
    "import pytesseract\n",
    "import base64"
   ]
  },
  {
   "cell_type": "code",
   "execution_count": 4,
   "metadata": {},
   "outputs": [
    {
     "name": "stdout",
     "output_type": "stream",
     "text": [
      "Requirement already satisfied: easyocr in c:\\users\\kizorselvaraj\\anaconda3\\lib\\site-packages (1.7.1)\n",
      "Requirement already satisfied: torch in c:\\users\\kizorselvaraj\\anaconda3\\lib\\site-packages (from easyocr) (2.1.2)\n",
      "Requirement already satisfied: torchvision>=0.5 in c:\\users\\kizorselvaraj\\anaconda3\\lib\\site-packages (from easyocr) (0.16.2)\n",
      "Requirement already satisfied: opencv-python-headless in c:\\users\\kizorselvaraj\\anaconda3\\lib\\site-packages (from easyocr) (4.9.0.80)\n",
      "Requirement already satisfied: scipy in c:\\users\\kizorselvaraj\\anaconda3\\lib\\site-packages (from easyocr) (1.11.1)\n",
      "Requirement already satisfied: numpy in c:\\users\\kizorselvaraj\\anaconda3\\lib\\site-packages (from easyocr) (1.24.3)\n",
      "Requirement already satisfied: Pillow in c:\\users\\kizorselvaraj\\anaconda3\\lib\\site-packages (from easyocr) (10.0.1)\n",
      "Requirement already satisfied: scikit-image in c:\\users\\kizorselvaraj\\anaconda3\\lib\\site-packages (from easyocr) (0.20.0)\n",
      "Requirement already satisfied: python-bidi in c:\\users\\kizorselvaraj\\anaconda3\\lib\\site-packages (from easyocr) (0.4.2)\n",
      "Requirement already satisfied: PyYAML in c:\\users\\kizorselvaraj\\anaconda3\\lib\\site-packages (from easyocr) (6.0)\n",
      "Requirement already satisfied: Shapely in c:\\users\\kizorselvaraj\\anaconda3\\lib\\site-packages (from easyocr) (2.0.2)\n",
      "Requirement already satisfied: pyclipper in c:\\users\\kizorselvaraj\\anaconda3\\lib\\site-packages (from easyocr) (1.3.0.post5)\n",
      "Requirement already satisfied: ninja in c:\\users\\kizorselvaraj\\anaconda3\\lib\\site-packages (from easyocr) (1.11.1.1)\n",
      "Requirement already satisfied: requests in c:\\users\\kizorselvaraj\\anaconda3\\lib\\site-packages (from torchvision>=0.5->easyocr) (2.31.0)\n",
      "Requirement already satisfied: filelock in c:\\users\\kizorselvaraj\\anaconda3\\lib\\site-packages (from torch->easyocr) (3.9.0)\n",
      "Requirement already satisfied: typing-extensions in c:\\users\\kizorselvaraj\\anaconda3\\lib\\site-packages (from torch->easyocr) (4.7.1)\n",
      "Requirement already satisfied: sympy in c:\\users\\kizorselvaraj\\anaconda3\\lib\\site-packages (from torch->easyocr) (1.11.1)\n",
      "Requirement already satisfied: networkx in c:\\users\\kizorselvaraj\\anaconda3\\lib\\site-packages (from torch->easyocr) (3.1)\n",
      "Requirement already satisfied: jinja2 in c:\\users\\kizorselvaraj\\anaconda3\\lib\\site-packages (from torch->easyocr) (3.1.2)\n",
      "Requirement already satisfied: fsspec in c:\\users\\kizorselvaraj\\anaconda3\\lib\\site-packages (from torch->easyocr) (2023.4.0)\n",
      "Requirement already satisfied: six in c:\\users\\kizorselvaraj\\anaconda3\\lib\\site-packages (from python-bidi->easyocr) (1.16.0)\n",
      "Requirement already satisfied: imageio>=2.4.1 in c:\\users\\kizorselvaraj\\anaconda3\\lib\\site-packages (from scikit-image->easyocr) (2.26.0)\n",
      "Requirement already satisfied: tifffile>=2019.7.26 in c:\\users\\kizorselvaraj\\anaconda3\\lib\\site-packages (from scikit-image->easyocr) (2023.4.12)\n",
      "Requirement already satisfied: PyWavelets>=1.1.1 in c:\\users\\kizorselvaraj\\anaconda3\\lib\\site-packages (from scikit-image->easyocr) (1.4.1)\n",
      "Requirement already satisfied: packaging>=20.0 in c:\\users\\kizorselvaraj\\anaconda3\\lib\\site-packages (from scikit-image->easyocr) (23.1)\n",
      "Requirement already satisfied: lazy_loader>=0.1 in c:\\users\\kizorselvaraj\\anaconda3\\lib\\site-packages (from scikit-image->easyocr) (0.2)\n",
      "Requirement already satisfied: MarkupSafe>=2.0 in c:\\users\\kizorselvaraj\\anaconda3\\lib\\site-packages (from jinja2->torch->easyocr) (2.1.1)\n",
      "Requirement already satisfied: charset-normalizer<4,>=2 in c:\\users\\kizorselvaraj\\anaconda3\\lib\\site-packages (from requests->torchvision>=0.5->easyocr) (2.0.4)\n",
      "Requirement already satisfied: idna<4,>=2.5 in c:\\users\\kizorselvaraj\\anaconda3\\lib\\site-packages (from requests->torchvision>=0.5->easyocr) (3.4)\n",
      "Requirement already satisfied: urllib3<3,>=1.21.1 in c:\\users\\kizorselvaraj\\anaconda3\\lib\\site-packages (from requests->torchvision>=0.5->easyocr) (1.26.16)\n",
      "Requirement already satisfied: certifi>=2017.4.17 in c:\\users\\kizorselvaraj\\anaconda3\\lib\\site-packages (from requests->torchvision>=0.5->easyocr) (2023.11.17)\n",
      "Requirement already satisfied: mpmath>=0.19 in c:\\users\\kizorselvaraj\\anaconda3\\lib\\site-packages (from sympy->torch->easyocr) (1.3.0)\n",
      "Note: you may need to restart the kernel to use updated packages.\n"
     ]
    }
   ],
   "source": [
    "pip install easyocr"
   ]
  },
  {
   "cell_type": "code",
   "execution_count": 5,
   "metadata": {},
   "outputs": [],
   "source": [
    "import easyocr"
   ]
  },
  {
   "cell_type": "code",
   "execution_count": 6,
   "metadata": {},
   "outputs": [],
   "source": [
    "def w():\n",
    "    q = easyocr.Reader([\"en\"])\n",
    "    return q"
   ]
  },
  {
   "cell_type": "code",
   "execution_count": 16,
   "metadata": {},
   "outputs": [
    {
     "name": "stderr",
     "output_type": "stream",
     "text": [
      "Neither CUDA nor MPS are available - defaulting to CPU. Note: This module is much faster with a GPU.\n"
     ]
    }
   ],
   "source": [
    "\n",
    "reader = w()\n",
    "kizor = Image.open(\"C:\\\\Users\\\\KizorSelvaraj\\\\Desktop\\\\project_3\\\\4.png\")\n",
    "add1= reader.readtext(np.array(kizor),detail=0)"
   ]
  },
  {
   "cell_type": "code",
   "execution_count": 17,
   "metadata": {},
   "outputs": [
    {
     "data": {
      "text/plain": [
       "['REVANTH',\n",
       " 'Marketing Executive',\n",
       " '123 ABC St,, HYDRABAD, TamilNadu;',\n",
       " '600001',\n",
       " '+91-456-1234',\n",
       " 'hello@CHRISTMAS.com',\n",
       " 'Family',\n",
       " 'wwW.CHRISTMAS.com',\n",
       " 'Restaurant']"
      ]
     },
     "execution_count": 17,
     "metadata": {},
     "output_type": "execute_result"
    }
   ],
   "source": [
    "add1"
   ]
  },
  {
   "cell_type": "code",
   "execution_count": 9,
   "metadata": {},
   "outputs": [],
   "source": [
    "\n",
    "mydb=psycopg2.connect(host='localhost',user='postgres',password='Kizor@1996',database='BusinessCard_extraction',port=5432)\n",
    "cursor=mydb.cursor()\n",
    "\n",
    "create='''create table if not exists bs(id SERIAL PRIMARY KEY,\n",
    "                                        name varchar(100),\n",
    "                                        designation varchar(100),\n",
    "                                        company_name varchar(100),\n",
    "                                        contact varchar(100),\n",
    "                                        email varchar(100),\n",
    "                                        website varchar(100),\n",
    "                                        address text,\n",
    "                                        pincode varchar(100),\n",
    "                                        image_byt bytea)'''\n",
    "cursor.execute(create)\n",
    "mydb.commit()"
   ]
  },
  {
   "cell_type": "code",
   "execution_count": 18,
   "metadata": {},
   "outputs": [],
   "source": [
    "#Extraction\n",
    "\n",
    "def uploaded_image(Card_img):\n",
    "    imdict = {'Name': [], 'Designation': [], 'Company': [], 'Contact': [],\n",
    "                  'Email': [], 'Website': [],\n",
    "                  'Address': [], 'Pincode': []\n",
    "                  }\n",
    "    imdict['Name'].append(add1[0])\n",
    "    imdict['Designation'].append(add1[1])\n",
    "\n",
    "    for i in range(2, len(add1)):\n",
    "        if add1[i].startswith('+') or (add1[i].replace('-', '').isdigit() and '-' in add1[i]):\n",
    "            imdict['Contact'].append(add1[i])\n",
    "\n",
    "        elif '@' in add1[i] and '.com' in add1[i]:\n",
    "            smaller = add1[i].lower()\n",
    "            imdict['Email'].append(smaller)\n",
    "\n",
    "        elif 'www' in add1[i] or 'WWW ' in add1[i] or 'wwW' in add1[i]:\n",
    "            smaller = add1[i].lower()\n",
    "            imdict['Website'].append(smaller)\n",
    "\n",
    "        elif 'Tamil Nadu' in add1[i] or 'TamilNadu' in add1[i] or add1[i].isdigit():\n",
    "            imdict['Address'].append(add1[i])\n",
    "\n",
    "        elif re.match(r'^[A-Za-z]', add1[i]):\n",
    "            imdict['Company'].append(add1[i])\n",
    "\n",
    "        \n",
    "\n",
    "        else:\n",
    "            remove_colon = re.sub(r'[.,;]', '', add1[i])\n",
    "            imdict['Company'].append(remove_colon)\n",
    "\n",
    "    for key, values in imdict.items():\n",
    "        if len(values) > 0:\n",
    "            concat_string = ' '.join(values)\n",
    "            imdict[key] = [concat_string]\n",
    "        else:\n",
    "            values = 'NA'\n",
    "            imdict[key] = [values]\n",
    "    return imdict\n",
    "\n",
    "im=uploaded_image(add1)\n",
    "image=pd.DataFrame(im)"
   ]
  },
  {
   "cell_type": "code",
   "execution_count": 19,
   "metadata": {},
   "outputs": [
    {
     "data": {
      "text/html": [
       "<div>\n",
       "<style scoped>\n",
       "    .dataframe tbody tr th:only-of-type {\n",
       "        vertical-align: middle;\n",
       "    }\n",
       "\n",
       "    .dataframe tbody tr th {\n",
       "        vertical-align: top;\n",
       "    }\n",
       "\n",
       "    .dataframe thead th {\n",
       "        text-align: right;\n",
       "    }\n",
       "</style>\n",
       "<table border=\"1\" class=\"dataframe\">\n",
       "  <thead>\n",
       "    <tr style=\"text-align: right;\">\n",
       "      <th></th>\n",
       "      <th>Name</th>\n",
       "      <th>Designation</th>\n",
       "      <th>Company</th>\n",
       "      <th>Contact</th>\n",
       "      <th>Email</th>\n",
       "      <th>Website</th>\n",
       "      <th>Address</th>\n",
       "      <th>Pincode</th>\n",
       "    </tr>\n",
       "  </thead>\n",
       "  <tbody>\n",
       "    <tr>\n",
       "      <th>0</th>\n",
       "      <td>REVANTH</td>\n",
       "      <td>Marketing Executive</td>\n",
       "      <td>Family Restaurant</td>\n",
       "      <td>+91-456-1234</td>\n",
       "      <td>hello@christmas.com</td>\n",
       "      <td>www.christmas.com</td>\n",
       "      <td>123 ABC St,, HYDRABAD, TamilNadu; 600001</td>\n",
       "      <td>NA</td>\n",
       "    </tr>\n",
       "  </tbody>\n",
       "</table>\n",
       "</div>"
      ],
      "text/plain": [
       "      Name          Designation            Company       Contact  \\\n",
       "0  REVANTH  Marketing Executive  Family Restaurant  +91-456-1234   \n",
       "\n",
       "                 Email            Website  \\\n",
       "0  hello@christmas.com  www.christmas.com   \n",
       "\n",
       "                                    Address Pincode  \n",
       "0  123 ABC St,, HYDRABAD, TamilNadu; 600001      NA  "
      ]
     },
     "execution_count": 19,
     "metadata": {},
     "output_type": "execute_result"
    }
   ],
   "source": [
    "image"
   ]
  },
  {
   "cell_type": "code",
   "execution_count": null,
   "metadata": {},
   "outputs": [],
   "source": []
  },
  {
   "cell_type": "code",
   "execution_count": 20,
   "metadata": {},
   "outputs": [],
   "source": [
    "def image_to_text(image_path):\n",
    "    reader = easyocr.Reader(['en'])\n",
    "    result = reader.readtext(image_path)\n",
    "    details =[]\n",
    "    for i in range(len(result)):\n",
    "        details.append(result[i][1])\n",
    "    name = []\n",
    "    designation = []\n",
    "    contact =[]\n",
    "    email =[]\n",
    "    website = []\n",
    "    street =[]\n",
    "    city =[]\n",
    "    state =[]\n",
    "    pincode=[]\n",
    "    company =[]\n",
    "    \n",
    "    for i in range(len(details)):\n",
    "        match1 = re.findall('([0-9]+ [A-Z]+ [A-Za-z]+)., ([a-zA-Z]+). ([a-zA-Z]+)',details[i])    \n",
    "        match2 = re.findall('([0-9]+ [A-Z]+ [A-Za-z]+)., ([a-zA-Z]+)', details[i])\n",
    "        match3 = re.findall('^[E].+[a-z]',details[i])\n",
    "        match4 = re.findall('([A-Za-z]+) ([0-9]+)',details[i])\n",
    "        match5 = re.findall('([0-9]+ [a-zA-z]+)',details[i])    \n",
    "        match6 = re.findall('.com$' , details[i])\n",
    "        match7 = re.findall('([0-9]+)',details[i])\n",
    "        if details[i] == details[0]:\n",
    "            name.append(details[i])        \n",
    "        elif details[i] == details[1]:\n",
    "            designation.append(details[i])\n",
    "        elif '-' in details[i]:\n",
    "            contact.append(details[i])\n",
    "        elif '@' in details[i]:\n",
    "            email.append(details[i])\n",
    "        elif \"www \" in details[i].lower() or \"www.\" in details[i].lower():\n",
    "            website.append(details[i])\n",
    "        elif \"WWW\" in details[i]:\n",
    "            website.append(details[i] +\".\" + details[i+1])\n",
    "        elif match6:\n",
    "            pass\n",
    "        elif match1:\n",
    "            street.append(match1[0][0])\n",
    "            city.append(match1[0][1])\n",
    "            state.append(match1[0][2])\n",
    "        elif match2:\n",
    "            street.append(match2[0][0])\n",
    "            city.append(match2[0][1])\n",
    "        elif match3:\n",
    "            city.append(match3[0])\n",
    "        elif match4:\n",
    "            state.append(match4[0][0])\n",
    "            pincode.append(match4[0][1])\n",
    "        elif match5:\n",
    "            street.append(match5[0]+' St,')\n",
    "        elif match7:\n",
    "            pincode.append(match7[0])\n",
    "        else:\n",
    "            company.append(details[i])\n",
    "    if len(company)>1:\n",
    "        comp = company[0]+' '+company[1]\n",
    "        print(comp)\n",
    "    else:\n",
    "        comp = company[0]\n",
    "    if len(contact) >1:\n",
    "        contact_number = contact[0]\n",
    "        alternative_number = contact[1]\n",
    "    else:\n",
    "        contact_number = contact[0]\n",
    "        alternative_number = None\n",
    "    \n",
    "    with open(image_path, 'rb') as image_file:\n",
    "        image_data = image_file.read()\n",
    "    \n",
    "    # Convert the binary image data to a base64 encoded string\n",
    "    encoded_image = base64.b64encode(image_data).decode('utf-8')\n",
    "    \n",
    "    image_details = {'name':name[0],'designation':designation[0],'company_name':comp,\n",
    "                     'contact':contact_number,'alternative':alternative_number,'email':email[0],\n",
    "                     'website':website[0],'street':street[0],'city':city[0],'state':state[0],\n",
    "                     'pincode':pincode[0], 'image': encoded_image}\n",
    "        \n",
    "    return image_details"
   ]
  },
  {
   "cell_type": "code",
   "execution_count": null,
   "metadata": {},
   "outputs": [],
   "source": []
  },
  {
   "cell_type": "code",
   "execution_count": null,
   "metadata": {},
   "outputs": [],
   "source": []
  },
  {
   "cell_type": "code",
   "execution_count": null,
   "metadata": {},
   "outputs": [],
   "source": []
  },
  {
   "cell_type": "code",
   "execution_count": null,
   "metadata": {},
   "outputs": [],
   "source": []
  },
  {
   "cell_type": "code",
   "execution_count": null,
   "metadata": {},
   "outputs": [],
   "source": []
  }
 ],
 "metadata": {
  "kernelspec": {
   "display_name": "Python 3",
   "language": "python",
   "name": "python3"
  },
  "language_info": {
   "codemirror_mode": {
    "name": "ipython",
    "version": 3
   },
   "file_extension": ".py",
   "mimetype": "text/x-python",
   "name": "python",
   "nbconvert_exporter": "python",
   "pygments_lexer": "ipython3",
   "version": "3.11.5"
  }
 },
 "nbformat": 4,
 "nbformat_minor": 2
}
